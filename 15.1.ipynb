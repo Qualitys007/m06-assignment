{
 "cells": [
  {
   "cell_type": "code",
   "execution_count": null,
   "metadata": {},
   "outputs": [],
   "source": [
    "import multiprocessing\n",
    "import time\n",
    "import random\n",
    "from datetime import datetime\n",
    "\n",
    "# 15.1\n",
    "def process_task():\n",
    "    wait_time = random.uniform(0, 1)  \n",
    "    time.sleep(wait_time)  \n",
    "    print(f\"Process {multiprocessing.current_process().name} | Time: {datetime.now()}\")\n",
    "\n",
    "if __name__ == \"__main__\":    \n",
    "    processes = []\n",
    "    for i in range(3):\n",
    "        process = multiprocessing.Process(target=process_task, name=f\"Process-{i+1}\")\n",
    "        processes.append(process)\n",
    "        process.start()\n",
    "\n",
    "    for process in processes:\n",
    "        process.join()\n"
   ]
  }
 ],
 "metadata": {
  "language_info": {
   "name": "python"
  }
 },
 "nbformat": 4,
 "nbformat_minor": 2
}
