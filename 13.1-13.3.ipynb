{
 "cells": [
  {
   "cell_type": "code",
   "execution_count": null,
   "metadata": {},
   "outputs": [],
   "source": [
    "from datetime import datetime\n",
    "\n",
    "# 13.1 \n",
    "current_date = datetime.today().strftime('%Y-%m-%d')  # Format the current date as a string\n",
    "with open('today.txt', 'w') as file:\n",
    "    file.write(current_date)\n",
    "\n",
    "# 13.2 \n",
    "with open('today.txt', 'r') as file:\n",
    "    today_string = file.read()\n",
    "\n",
    "print(f\"Today string: {today_string}\")\n",
    "\n",
    "# 13.3 \n",
    "parsed_date = datetime.strptime(today_string, '%Y-%m-%d')\n",
    "print(f\"Parsed date: {parsed_date}\")\n"
   ]
  }
 ],
 "metadata": {
  "language_info": {
   "name": "python"
  }
 },
 "nbformat": 4,
 "nbformat_minor": 2
}
